{
 "cells": [
  {
   "cell_type": "markdown",
   "metadata": {},
   "source": [
    "### EJERCICIOS"
   ]
  },
  {
   "cell_type": "markdown",
   "metadata": {},
   "source": [
    "#### Imprime en consola Hello World."
   ]
  },
  {
   "cell_type": "markdown",
   "metadata": {},
   "source": [
    "iaguerri@IRENEAGUERRI% 🚀 echo \"Hello world\"                                                                 ~ 12:56:51\n",
    "Hello world"
   ]
  },
  {
   "cell_type": "markdown",
   "metadata": {},
   "source": [
    "#### Crea un directorio nuevo llamado new_dir."
   ]
  },
  {
   "cell_type": "markdown",
   "metadata": {},
   "source": [
    "iaguerri@IRENEAGUERRI% 🚀 mkdir new_dir                                                  ~/Ironhack/lab11-bash 13:02:14"
   ]
  },
  {
   "cell_type": "markdown",
   "metadata": {},
   "source": [
    "#### Elimina ese directorio."
   ]
  },
  {
   "cell_type": "markdown",
   "metadata": {},
   "source": [
    "iaguerri@IRENEAGUERRI% 🚀 rm -rf new_dir                                                  ~/Ironhack/lab11-bash 13:02:14"
   ]
  },
  {
   "cell_type": "markdown",
   "metadata": {},
   "source": [
    "#### Imprime en consola Hello World."
   ]
  },
  {
   "cell_type": "markdown",
   "metadata": {},
   "source": [
    "iaguerri@IRENEAGUERRI% 🚀 echo \"Hello world\"                                                                 ~ 12:56:51\n",
    "Hello world"
   ]
  },
  {
   "cell_type": "markdown",
   "metadata": {},
   "source": [
    "#### Crea un directorio nuevo llamado new_dir."
   ]
  },
  {
   "cell_type": "markdown",
   "metadata": {},
   "source": [
    "iaguerri@IRENEAGUERRI% 🚀 mkdir new_dir                                                  ~/Ironhack/lab11-bash 13:02:14"
   ]
  },
  {
   "cell_type": "markdown",
   "metadata": {},
   "source": [
    "#### Elimina ese directorio."
   ]
  },
  {
   "cell_type": "markdown",
   "metadata": {},
   "source": [
    "iaguerri@IRENEAGUERRI% 🚀 rm -rf new_dir                                                  ~/Ironhack/lab11-bash 13:02:14"
   ]
  },
  {
   "cell_type": "markdown",
   "metadata": {},
   "source": [
    "\n",
    "#### Copia el archivo sed.txt dentro de la carpeta lorem a la carpeta lorem-copy.\n"
   ]
  },
  {
   "cell_type": "markdown",
   "metadata": {},
   "source": [
    "iaguerri@IRENEAGUERRI% 🚀 cd lorem        \n",
    "                           mkdir lorem-copy\n",
    "                           cp sed.txt lorem-copy/sed.txt"
   ]
  },
  {
   "cell_type": "markdown",
   "metadata": {},
   "source": [
    "#### Copia los otros dos archivos de la carpeta lorem a la carpeta lorem-copy en una sola línea mediante ;."
   ]
  },
  {
   "cell_type": "markdown",
   "metadata": {},
   "source": [
    "iaguerri@IRENEAGUERRI% 🚀 cp at.txt lorem-copy/at.txt ; cp lorem.txt lorem-copy/lorem.txt"
   ]
  },
  {
   "cell_type": "markdown",
   "metadata": {},
   "source": [
    "#### Muestra el contenido del archivo sed.txt dentro de la carpeta lorem."
   ]
  },
  {
   "cell_type": "markdown",
   "metadata": {},
   "source": [
    "iaguerri@IRENEAGUERRI% 🚀 cat sed.txt\n",
    "───────┬────────────────────────────────────────────────────────────────────────────────────────────────────────────────\n",
    "       │ File: sed.txt\n",
    "───────┼────────────────────────────────────────────────────────────────────────────────────────────────────────────────\n",
    "   1   │ Sed ut perspiciatis unde omnis iste natus error sit voluptatem accusantium doloremque laudantium,\n",
    "   2   │ totam rem aperiam, eaque ipsa quae ab illo inventore veritatis et quasi architecto beatae vitae dicta sunt expl\n",
    "       │ icabo.\n",
    "   3   │ Nemo enim ipsam voluptatem quia voluptas sit aspernatur aut odit aut fugit,\n",
    "   4   │ sed quia consequuntur magni dolores eos qui ratione voluptatem sequi nesciunt.\n",
    "   5   │ Neque porro quisquam est, qui dolorem ipsum quia dolor sit amet, consectetur, adipisci velit,\n",
    "   6   │ sed quia non numquam eius modi tempora incidunt ut labore et dolore magnam aliquam quaerat voluptatem.\n",
    "   7   │ Ut enim ad minima veniam, quis nostrum exercitationem ullam corporis suscipit laboriosam,\n",
    "   8   │ nisi ut aliquid ex ea commodi consequatur? Quis autem vel eum iure reprehenderit qui in ea voluptate velit esse\n",
    "       │  quam nihil molestiae consequatur,\n",
    "   9   │ vel illum qui dolorem eum fugiat quo voluptas nulla pariatur?"
   ]
  },
  {
   "cell_type": "markdown",
   "metadata": {},
   "source": [
    "#### Muestra el contenido de los archivos at.txt y lorem.txt dentro de la carpeta lorem."
   ]
  },
  {
   "cell_type": "markdown",
   "metadata": {},
   "source": [
    "iaguerri@IRENEAGUERRI% 🚀 cat at.txt\n",
    "───────┬────────────────────────────────────────────────────────────────────────────────────────────────────────────────\n",
    "       │ File: at.txt\n",
    "───────┼────────────────────────────────────────────────────────────────────────────────────────────────────────────────\n",
    "   1   │ At vero eos et accusamus et iusto odio dignissimos ducimus qui blanditiis praesentium voluptatum\n",
    "   2   │ deleniti atque corrupti quos dolores et quas molestias excepturi sint occaecati cupiditate non\n",
    "   3   │ provident, similique sunt in culpa qui officia deserunt mollitia animi, id est laborum et dolorum fuga.\n",
    "   4   │ Et harum quidem rerum facilis est et expedita distinctio.\n",
    "   5   │ Nam libero tempore, cum soluta nobis est eligendi optio cumque nihil impedit quo minus id quod\n",
    "   6   │ maxime placeat facere possimus, omnis voluptas assumenda est, omnis dolor repellendus.\n",
    "   7   │ Temporibus autem quibusdam et aut officiis debitis aut rerum necessitatibus saepe eveniet\n",
    "   8   │ ut et voluptates repudiandae sint et molestiae non recusandae.\n",
    "   9   │ Itaque earum rerum hic tenetur a sapiente delectus, ut aut reiciendis voluptatibus maiores\n",
    "  10   │ alias consequatur aut perferendis doloribus asperiores repellat"
   ]
  },
  {
   "cell_type": "markdown",
   "metadata": {},
   "source": [
    "iaguerri@IRENEAGUERRI% 🚀 cat lorem.txt\n",
    "───────┬────────────────────────────────────────────────────────────────────────────────────────────────────────────────\n",
    "       │ File: lorem.txt\n",
    "───────┼────────────────────────────────────────────────────────────────────────────────────────────────────────────────\n",
    "   1   │ Lorem ipsum dolor sit amet, consectetur adipiscing elit, sed do eiusmod tempor incididunt ut labore et dolore m\n",
    "       │ agna aliqua.\n",
    "   2   │ Ut enim ad minim veniam, quis nostrud exercitation ullamco laboris nisi ut aliquip ex ea commodo consequat.\n",
    "   3   │ Duis aute irure dolor in reprehenderit in voluptate velit esse cillum dolore eu fugiat nulla pariatur.\n",
    "   4   │ Excepteur sint occaecat cupidatat non proident, sunt in culpa qui officia deserunt mollit anim id est laborum."
   ]
  },
  {
   "cell_type": "markdown",
   "metadata": {},
   "source": [
    "#### Visualiza las primeras 3 líneas del archivo sed.txt dentro de la carpeta lorem-copy"
   ]
  },
  {
   "cell_type": "markdown",
   "metadata": {},
   "source": [
    "iaguerri@IRENEAGUERRI% 🚀 cat sed.txt --line-range :3\n",
    "───────┬────────────────────────────────────────────────────────────────────────────────────────────────────────────────\n",
    "       │ File: sed.txt\n",
    "───────┼────────────────────────────────────────────────────────────────────────────────────────────────────────────────\n",
    "   1   │ Sed ut perspiciatis unde omnis iste natus error sit voluptatem accusantium doloremque laudantium,\n",
    "   2   │ totam rem aperiam, eaque ipsa quae ab illo inventore veritatis et quasi architecto beatae vitae dicta sunt expl\n",
    "       │ icabo.\n",
    "   3   │ Nemo enim ipsam voluptatem quia voluptas sit aspernatur aut odit aut fugit,"
   ]
  },
  {
   "cell_type": "markdown",
   "metadata": {},
   "source": [
    "#### Visualiza las ultimas 3 líneas del archivo sed.txt dentro de la carpeta lorem-copy"
   ]
  },
  {
   "cell_type": "markdown",
   "metadata": {},
   "source": [
    "iaguerri@IRENEAGUERRI% 🚀 tail -3 sed.txt\n",
    "Ut enim ad minima veniam, quis nostrum exercitationem ullam corporis suscipit laboriosam,\n",
    "nisi ut aliquid ex ea commodi consequatur? Quis autem vel eum iure reprehenderit qui in ea voluptate velit esse quam nihil molestiae consequatur,\n",
    "vel illum qui dolorem eum fugiat quo voluptas nulla pariatur?"
   ]
  },
  {
   "cell_type": "markdown",
   "metadata": {},
   "source": [
    "#### Añade Homo homini lupus. al final de archivo sed.txt dentro de la carpeta lorem-copy."
   ]
  },
  {
   "cell_type": "markdown",
   "metadata": {},
   "source": [
    "iaguerri@IRENEAGUERRI% 🚀 cd lorem-copy\n",
    "iaguerri@IRENEAGUERRI% 🚀 nano sed.txt\n",
    "iaguerri@IRENEAGUERRI% 🚀 cat sed.txt\n",
    "───────┬────────────────────────────────────────────────────────────────────────────────────────────────────────────────\n",
    "       │ File: sed.txt\n",
    "───────┼────────────────────────────────────────────────────────────────────────────────────────────────────────────────\n",
    "   1   │ Sed ut perspiciatis unde omnis iste natus error sit voluptatem accusantium doloremque laudantium,\n",
    "   2   │ totam rem aperiam, eaque ipsa quae ab illo inventore veritatis et quasi architecto beatae vitae dicta sunt expl\n",
    "       │ icabo.\n",
    "   3   │ Nemo enim ipsam voluptatem quia voluptas sit aspernatur aut odit aut fugit,\n",
    "   4   │ sed quia consequuntur magni dolores eos qui ratione voluptatem sequi nesciunt.\n",
    "   5   │ Neque porro quisquam est, qui dolorem ipsum quia dolor sit amet, consectetur, adipisci velit,\n",
    "   6   │ sed quia non numquam eius modi tempora incidunt ut labore et dolore magnam aliquam quaerat voluptatem.\n",
    "   7   │ Ut enim ad minima veniam, quis nostrum exercitationem ullam corporis suscipit laboriosam,\n",
    "   8   │ nisi ut aliquid ex ea commodi consequatur? Quis autem vel eum iure reprehenderit qui in ea voluptate velit esse\n",
    "       │  quam nihil molestiae consequatur,\n",
    "   9   │ vel illum qui dolorem eum fugiat quo voluptas nulla pariatur?\n",
    "  10   │ Homo hominí lupus"
   ]
  },
  {
   "cell_type": "markdown",
   "metadata": {},
   "source": [
    "#### Visualiza las últimas 3 líneas del archivo sed.txt dentro de la carpeta lorem-copy. Deberías ver ahora Homo homini lupus"
   ]
  },
  {
   "cell_type": "markdown",
   "metadata": {},
   "source": [
    "iaguerri@IRENEAGUERRI% 🚀 tail -3 sed.txt\n",
    "nisi ut aliquid ex ea commodi consequatur? Quis autem vel eum iure reprehenderit qui in ea voluptate velit esse quam nihil molestiae consequatur,\n",
    "vel illum qui dolorem eum fugiat quo voluptas nulla pariatur?\n",
    "Homo hominí lupus"
   ]
  },
  {
   "cell_type": "markdown",
   "metadata": {},
   "source": [
    "#### Sustituye todas las apariciones de et por ET del archivo at.txt dentro de la carpeta lorem-copy. Deberás usar sed."
   ]
  },
  {
   "cell_type": "markdown",
   "metadata": {},
   "source": [
    "iaguerri@IRENEAGUERRI% 😧 🚀 sed 's/et/ET/g' at.txt\n",
    "At vero eos ET accusamus ET iusto odio dignissimos ducimus qui blanditiis praesentium voluptatum\n",
    "deleniti atque corrupti quos dolores ET quas molestias excepturi sint occaecati cupiditate non\n",
    "provident, similique sunt in culpa qui officia deserunt mollitia animi, id est laborum ET dolorum fuga.\n",
    "Et harum quidem rerum facilis est ET expedita distinctio.\n",
    "Nam libero tempore, cum soluta nobis est eligendi optio cumque nihil impedit quo minus id quod\n",
    "maxime placeat facere possimus, omnis voluptas assumenda est, omnis dolor repellendus.\n",
    "Temporibus autem quibusdam ET aut officiis debitis aut rerum necessitatibus saepe eveniET\n",
    "ut ET voluptates repudiandae sint ET molestiae non recusandae.\n",
    "Itaque earum rerum hic tenETur a sapiente delectus, ut aut reiciendis voluptatibus maiores\n",
    "alias consequatur aut perferendis doloribus asperiores repellat"
   ]
  },
  {
   "cell_type": "markdown",
   "metadata": {},
   "source": [
    "#### Encuentra al usuario activo en el sistema."
   ]
  },
  {
   "cell_type": "markdown",
   "metadata": {},
   "source": [
    "iaguerri@IRENEAGUERRI% 🚀 whoami\n",
    "iaguerri"
   ]
  },
  {
   "cell_type": "markdown",
   "metadata": {},
   "source": [
    "#### Encuentra dónde estás en tu sistema de ficheros."
   ]
  },
  {
   "cell_type": "markdown",
   "metadata": {},
   "source": [
    "iaguerri@IRENEAGUERRI% 🚀 pwd\n",
    "/home/iaguerri/Ironhack/lab11-bash/1.1-lab-bash/lorem/lorem-copy"
   ]
  },
  {
   "cell_type": "markdown",
   "metadata": {},
   "source": [
    "#### Lista los archivos que terminan por .txt en la carpeta lorem."
   ]
  },
  {
   "cell_type": "markdown",
   "metadata": {},
   "source": [
    "iaguerri@IRENEAGUERRI% 🚀 ls *.txt\n",
    "at.txt  lorem.txt  sed.txt"
   ]
  },
  {
   "cell_type": "markdown",
   "metadata": {},
   "source": [
    "#### Cuenta el número de líneas que tiene el archivo sed.txt dentro de la carpeta lorem."
   ]
  },
  {
   "cell_type": "markdown",
   "metadata": {},
   "source": [
    "iaguerri@IRENEAGUERRI% 🚀 sed -n '$=' sed.txt\n",
    "9"
   ]
  },
  {
   "cell_type": "markdown",
   "metadata": {},
   "source": [
    "#### Cuenta el número de archivos que empiezan por lorem que están en este directorio y en directorios internos."
   ]
  },
  {
   "cell_type": "markdown",
   "metadata": {},
   "source": [
    "iaguerri@IRENEAGUERRI% 🚀 find . -name 'lorem*' -type f | wc -l\n",
    "\n",
    "2"
   ]
  },
  {
   "cell_type": "markdown",
   "metadata": {},
   "source": [
    "#### Encuentra todas las apariciones de et en at.txt dentro de la carpeta lorem."
   ]
  },
  {
   "cell_type": "markdown",
   "metadata": {},
   "source": [
    "iaguerri@IRENEAGUERRI% 🚀 grep -wc \"et\" at.txt\n",
    "\n",
    "6"
   ]
  },
  {
   "cell_type": "markdown",
   "metadata": {},
   "source": [
    "#### Cuenta el número de apariciones del string et en todos los archivos del directorio lorem-copy."
   ]
  },
  {
   "cell_type": "markdown",
   "metadata": {},
   "source": [
    "iaguerri@IRENEAGUERRI% 🚀 cd lorem-copy\n",
    "iaguerri@IRENEAGUERRI% 🚀 grep -c -inRsH \"et\" .\n",
    "\n",
    "./sed.txt:3\n",
    "./at.txt:7\n",
    "./lorem.txt:1"
   ]
  },
  {
   "cell_type": "markdown",
   "metadata": {},
   "source": [
    "### BONUS"
   ]
  },
  {
   "cell_type": "markdown",
   "metadata": {},
   "source": []
  },
  {
   "cell_type": "markdown",
   "metadata": {},
   "source": [
    "#### Almacena en una variable name tu nombre."
   ]
  },
  {
   "cell_type": "markdown",
   "metadata": {},
   "source": [
    "iaguerri@IRENEAGUERRI% 🚀 name=\"irene\""
   ]
  },
  {
   "cell_type": "markdown",
   "metadata": {},
   "source": [
    "#### Imprime esa variable."
   ]
  },
  {
   "cell_type": "markdown",
   "metadata": {},
   "source": [
    "iaguerri@IRENEAGUERRI% 🚀 echo $name\n",
    "irene"
   ]
  },
  {
   "cell_type": "markdown",
   "metadata": {},
   "source": [
    "#### Crea un directorio nuevo que se llame como el contenido de la variable name."
   ]
  },
  {
   "cell_type": "markdown",
   "metadata": {},
   "source": [
    "iaguerri@IRENEAGUERRI% 🚀 mkdir $name\n",
    "iaguerri@IRENEAGUERRI% 🚀 ls\n",
    "at.txt  irene  lorem.txt  sed.txt"
   ]
  },
  {
   "cell_type": "markdown",
   "metadata": {},
   "source": [
    "#### Elimina ese directorio."
   ]
  },
  {
   "cell_type": "markdown",
   "metadata": {},
   "source": [
    "iaguerri@IRENEAGUERRI% 🚀 rm -rf irene"
   ]
  },
  {
   "cell_type": "markdown",
   "metadata": {},
   "source": [
    "#### Por cada archivo dentro de la carpeta lorem imprime el número de carácteres que tienen sus nombres. Intenta primero mostrar los archivos mediante un bucle for:\n",
    "\n",
    "- Imprime los ficheros\n",
    "- Imprime las longitudes de los nombres de los ficheros\n",
    "- Imprime outputs con la siguiente estructura: lorem has 5 characters lenght"
   ]
  },
  {
   "cell_type": "markdown",
   "metadata": {},
   "source": [
    "archivo test.sh\n",
    "\n",
    "#!/bin/bash\n",
    "for f in /home/iaguerri/Ironhack/lab11-bash/1.1-lab-bash/lorem/*;\n",
    "do\n",
    "        echo \"The file ${f##*/} has  \"\n",
    "        echo -n ${f##*/} | wc -c\n",
    "        echo \" characters\"\n",
    "done;\n",
    "\n",
    "The file at.txt has\n",
    "6\n",
    " characters\n",
    "The file lorem-copy has\n",
    "10\n",
    " characters\n",
    "The file lorem.txt has\n",
    "9\n",
    " characters\n",
    "The file sed.txt has\n",
    "7\n"
   ]
  },
  {
   "cell_type": "markdown",
   "metadata": {},
   "source": [
    "#### Muestra los procesos de forma jerárquica que se están ejecutando en tu ordenador:\n",
    "\n",
    "- Usando el comando top o htop\n",
    "- Usando el comando ps con argumentos"
   ]
  },
  {
   "attachments": {
    "image.png": {
     "image/png": "[encoded data removed]"
    }
   },
   "cell_type": "markdown",
   "metadata": {},
   "source": [
    "![image.png](attachment:image.png)"
   ]
  },
  {
   "cell_type": "markdown",
   "metadata": {},
   "source": [
    "#### Muestra información sobre tu procesador por pantalla"
   ]
  },
  {
   "cell_type": "markdown",
   "metadata": {},
   "source": [
    "iaguerri@IRENEAGUERRI% 🚀 lscpu\n",
    "Architecture:                    x86_64\n",
    "CPU op-mode(s):                  32-bit, 64-bit\n",
    "Byte Order:                      Little Endian\n",
    "Address sizes:                   39 bits physical, 48 bits virtual\n",
    "CPU(s):                          8\n",
    "On-line CPU(s) list:             0-7\n",
    "Thread(s) per core:              2\n",
    "Core(s) per socket:              4\n",
    "Socket(s):                       1\n",
    "Vendor ID:                       GenuineIntel\n",
    "CPU family:                      6\n",
    "Model:                           94\n",
    "Model name:                      Intel(R) Core(TM) i7-6700HQ CPU @ 2.60GHz\n",
    "Stepping:                        3\n",
    "CPU MHz:                         2591.999\n",
    "BogoMIPS:                        5183.99\n",
    "Hypervisor vendor:               Microsoft\n",
    "Virtualization type:             full\n",
    "L1d cache:                       128 KiB\n",
    "L1i cache:                       128 KiB\n",
    "L2 cache:                        1 MiB\n",
    "L3 cache:                        6 MiB\n",
    "Vulnerability Itlb multihit:     KVM: Mitigation: VMX unsupported\n",
    "Vulnerability L1tf:              Mitigation; PTE Inversion\n",
    "Vulnerability Mds:               Vulnerable: Clear CPU buffers attempted, no microcode; SMT Host state unknown\n",
    "Vulnerability Meltdown:          Mitigation; PTI\n",
    "Vulnerability Spec store bypass: Mitigation; Speculative Store Bypass disabled via prctl and seccomp\n",
    "Vulnerability Spectre v1:        Mitigation; usercopy/swapgs barriers and __user pointer sanitization\n",
    "Vulnerability Spectre v2:        Mitigation; Full generic retpoline, IBPB conditional, IBRS_FW, STIBP conditional, RSB f\n",
    "                                 illing\n",
    "Vulnerability Srbds:             Unknown: Dependent on hypervisor status\n",
    "Vulnerability Tsx async abort:   Vulnerable: Clear CPU buffers attempted, no microcode; SMT Host state unknown\n",
    "Flags:                           fpu vme de pse tsc msr pae mce cx8 apic sep mtrr pge mca cmov pat pse36 clflush mmx fxs\n",
    "                                 r sse sse2 ss ht syscall nx pdpe1gb rdtscp lm constant_tsc rep_good nopl xtopology cpui\n",
    "                                 d pni pclmulqdq ssse3 fma cx16 pcid sse4_1 sse4_2 movbe popcnt aes xsave avx f16c rdran\n",
    "                                 d hypervisor lahf_lm abm 3dnowprefetch invpcid_single pti ssbd ibrs ibpb stibp fsgsbase\n",
    "                                  bmi1 hle avx2 smep bmi2 erms invpcid rtm rdseed adx smap clflushopt xsaveopt xsavec xg\n",
    "                                 etbv1 xsaves flush_l1d arch_capabilities"
   ]
  },
  {
   "cell_type": "markdown",
   "metadata": {},
   "source": [
    "#### Crea 3 alias y haz que estén disponibles cada vez que inicias sesión"
   ]
  },
  {
   "cell_type": "markdown",
   "metadata": {},
   "source": [
    "alias cat=\"batcat\"\n",
    "alias tree=\"tree -L 1 -I node_modules\"\n",
    "alias ls=\"exa\""
   ]
  },
  {
   "cell_type": "markdown",
   "metadata": {},
   "source": [
    "#### Comprime las carpetas lorem y lorem-copy en un archivo llamado lorem-compressed.tar.gz"
   ]
  },
  {
   "cell_type": "markdown",
   "metadata": {},
   "source": [
    "iaguerri@IRENEAGUERRI% 🚀 tar -cvzf lorem-compressed.tar.gz lorem"
   ]
  },
  {
   "cell_type": "markdown",
   "metadata": {},
   "source": [
    "#### Descomprime el archivo lorem-compressed.tar.gz en la carpeta lorem-uncompressed"
   ]
  },
  {
   "cell_type": "markdown",
   "metadata": {},
   "source": [
    "iaguerri@IRENEAGUERRI% 🚀 tar -cvzf lorem-compressed.tar.gz lorem-uncompressed"
   ]
  }
 ],
 "metadata": {
  "kernelspec": {
   "display_name": "Python 3 (ipykernel)",
   "language": "python",
   "name": "python3"
  },
  "language_info": {
   "codemirror_mode": {
    "name": "ipython",
    "version": 3
   },
   "file_extension": ".py",
   "mimetype": "text/x-python",
   "name": "python",
   "nbconvert_exporter": "python",
   "pygments_lexer": "ipython3",
   "version": "3.9.12"
  },
  "toc": {
   "base_numbering": 1,
   "nav_menu": {},
   "number_sections": true,
   "sideBar": true,
   "skip_h1_title": true,
   "title_cell": "Table of Contents",
   "title_sidebar": "Contents",
   "toc_cell": false,
   "toc_position": {},
   "toc_section_display": true,
   "toc_window_display": false
  },
  "varInspector": {
   "cols": {
    "lenName": 16,
    "lenType": 16,
    "lenVar": 40
   },
   "kernels_config": {
    "python": {
     "delete_cmd_postfix": "",
     "delete_cmd_prefix": "del ",
     "library": "var_list.py",
     "varRefreshCmd": "print(var_dic_list())"
    },
    "r": {
     "delete_cmd_postfix": ") ",
     "delete_cmd_prefix": "rm(",
     "library": "var_list.r",
     "varRefreshCmd": "cat(var_dic_list()) "
    }
   },
   "types_to_exclude": [
    "module",
    "function",
    "builtin_function_or_method",
    "instance",
    "_Feature"
   ],
   "window_display": false
  }
 },
 "nbformat": 4,
 "nbformat_minor": 4
}
